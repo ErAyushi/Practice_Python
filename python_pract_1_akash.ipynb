{
 "cells": [
  {
   "cell_type": "code",
   "execution_count": 1,
   "id": "c4065d5d-c264-4d3e-be23-a18aceaaf860",
   "metadata": {},
   "outputs": [],
   "source": [
    "# #1. Write a Python program that calculates the area of a circle based on the radius entered by the user.\n",
    "# Sample Output :\n",
    "# r = 1.1\n",
    "# Area = 3.8013271108436504"
   ]
  },
  {
   "cell_type": "code",
   "execution_count": 4,
   "id": "87b1f51f-6c9c-4705-b02c-7e44b95cde00",
   "metadata": {},
   "outputs": [
    {
     "name": "stdin",
     "output_type": "stream",
     "text": [
      "Enter radius :  1.1\n"
     ]
    },
    {
     "name": "stdout",
     "output_type": "stream",
     "text": [
      "3.8013263200000007\n"
     ]
    }
   ],
   "source": [
    "radius = float(input(\"Enter radius : \"))\n",
    "area = 3.141592 * radius * radius\n",
    "print(area)"
   ]
  },
  {
   "cell_type": "code",
   "execution_count": null,
   "id": "1776665c-f13e-4c7c-b7f0-e5072e995184",
   "metadata": {},
   "outputs": [],
   "source": []
  },
  {
   "cell_type": "code",
   "execution_count": 5,
   "id": "d09230a8-b5cc-4ada-9a8f-a61f1c27448c",
   "metadata": {},
   "outputs": [],
   "source": [
    "# 2. Write a Python program to display the first and last colors from the following list.\n",
    "# color_list = [\"Red\",\"Green\",\"White\" ,\"Black\"]"
   ]
  },
  {
   "cell_type": "code",
   "execution_count": 13,
   "id": "d2fd8244-a17c-495f-a551-f2acdd51ba1b",
   "metadata": {},
   "outputs": [
    {
     "name": "stdout",
     "output_type": "stream",
     "text": [
      "['Red', 'Black']\n"
     ]
    }
   ],
   "source": [
    "color_list = [\"Red\",\"Green\",\"White\" ,\"Black\"]\n",
    "print(color_list[0:4:3])"
   ]
  },
  {
   "cell_type": "code",
   "execution_count": null,
   "id": "5bdd7ffb-37eb-47d2-8694-97ff1ffd9e94",
   "metadata": {},
   "outputs": [],
   "source": []
  },
  {
   "cell_type": "code",
   "execution_count": null,
   "id": "3142e16d-b90a-4c4a-a102-4bf2dda12d30",
   "metadata": {},
   "outputs": [],
   "source": [
    "# 3. Write a Python program that accepts an integer (n) and computes the value of n+nn+nnn.\n",
    "# Sample value of n is 5\n",
    "# Expected Result : 615"
   ]
  },
  {
   "cell_type": "code",
   "execution_count": 38,
   "id": "c14670a6-a7a2-4227-aaed-4df4ec471f46",
   "metadata": {},
   "outputs": [
    {
     "name": "stdin",
     "output_type": "stream",
     "text": [
      "Enter an value of n :  5\n"
     ]
    },
    {
     "name": "stdout",
     "output_type": "stream",
     "text": [
      "615\n"
     ]
    }
   ],
   "source": [
    "n = int(input(\"Enter an value of n : \"))\n",
    "\n",
    "n_str = str(n)\n",
    "\n",
    "nn = int(n_str + n_str)\n",
    "\n",
    "nnn = int(n_str + n_str + n_str)\n",
    "\n",
    "print(n+nn+nnn)"
   ]
  },
  {
   "cell_type": "code",
   "execution_count": null,
   "id": "12bc54b2-772c-4ed4-98e5-c9a40bb3d93b",
   "metadata": {},
   "outputs": [],
   "source": []
  },
  {
   "cell_type": "code",
   "execution_count": null,
   "id": "ab958f8d-56e5-47ab-85a7-60ed8c9e2bb9",
   "metadata": {},
   "outputs": [],
   "source": [
    "# 4. Write a Python program to calculate the number of days between two dates.\n",
    "# Sample dates : (2014, 7, 2), (2014, 7, 11)\n",
    "# Expected output : 9 days"
   ]
  },
  {
   "cell_type": "code",
   "execution_count": 40,
   "id": "bab1ea52-b25b-4991-9012-fcf371f922ab",
   "metadata": {},
   "outputs": [
    {
     "name": "stdout",
     "output_type": "stream",
     "text": [
      "9\n"
     ]
    }
   ],
   "source": [
    "date1 = (2014,7,2)\n",
    "date2 = (2014,7,11)\n",
    "\n",
    "days = date2[2] - date1[2]\n",
    "print(days)"
   ]
  },
  {
   "cell_type": "code",
   "execution_count": 41,
   "id": "383f2219-49af-4644-b91a-6bef90b767a6",
   "metadata": {},
   "outputs": [],
   "source": [
    "from datetime import date"
   ]
  },
  {
   "cell_type": "code",
   "execution_count": 43,
   "id": "f975d554-79dc-4a95-bdae-d3ccc6421a15",
   "metadata": {},
   "outputs": [
    {
     "name": "stdout",
     "output_type": "stream",
     "text": [
      "40 days, 0:00:00\n"
     ]
    }
   ],
   "source": [
    "date_1 = date(2014,7,2)\n",
    "date_2 = date(2014,8,11)\n",
    "\n",
    "diff = date_2 - date_1\n",
    "print(diff)"
   ]
  },
  {
   "cell_type": "code",
   "execution_count": null,
   "id": "83f81653-afb9-4acc-829d-8a322830ca34",
   "metadata": {},
   "outputs": [],
   "source": []
  },
  {
   "cell_type": "code",
   "execution_count": null,
   "id": "46c5a028-0ea5-428d-b0e2-18e25f1c9705",
   "metadata": {},
   "outputs": [],
   "source": [
    " # Write a Python program to test whether a number is within 100 of 1000 or 2000."
   ]
  },
  {
   "cell_type": "code",
   "execution_count": 63,
   "id": "766af846-656d-498e-89a9-42b7f314a339",
   "metadata": {},
   "outputs": [
    {
     "name": "stdin",
     "output_type": "stream",
     "text": [
      "Enter a number to check whether a number is within 100 of 1000 or 2000\n",
      " 1950\n"
     ]
    },
    {
     "name": "stdout",
     "output_type": "stream",
     "text": [
      "1950 is within 100 of 1000 or 2000.\n"
     ]
    }
   ],
   "source": [
    "# def test_num(n):\n",
    "#     return abs(n - 1000) <= 100 or abs(n - 2000) <= 100\n",
    "\n",
    "n = int(input(\"Enter a number to check whether a number is within 100 of 1000 or 2000\\n\"))\n",
    "\n",
    "if  (abs(n - 1000) <= 100) or (abs(n - 2000) <= 100):\n",
    "    print(f\"{n} is within 100 of 1000 or 2000.\")\n",
    "else:\n",
    "    print(f\"{n} is not within 100 of 1000 or 2000.\")\n",
    "\n",
    "#if test_num(n):"
   ]
  },
  {
   "cell_type": "code",
   "execution_count": null,
   "id": "d73ef868-5db2-467b-be68-e504a5ff4880",
   "metadata": {},
   "outputs": [],
   "source": []
  }
 ],
 "metadata": {
  "kernelspec": {
   "display_name": "Python 3 (ipykernel)",
   "language": "python",
   "name": "python3"
  },
  "language_info": {
   "codemirror_mode": {
    "name": "ipython",
    "version": 3
   },
   "file_extension": ".py",
   "mimetype": "text/x-python",
   "name": "python",
   "nbconvert_exporter": "python",
   "pygments_lexer": "ipython3",
   "version": "3.12.4"
  }
 },
 "nbformat": 4,
 "nbformat_minor": 5
}
