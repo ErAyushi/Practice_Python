{
  "nbformat": 4,
  "nbformat_minor": 0,
  "metadata": {
    "colab": {
      "provenance": []
    },
    "kernelspec": {
      "name": "python3",
      "display_name": "Python 3"
    },
    "language_info": {
      "name": "python"
    }
  },
  "cells": [
    {
      "cell_type": "code",
      "execution_count": 1,
      "metadata": {
        "colab": {
          "base_uri": "https://localhost:8080/"
        },
        "id": "mJarVhJShc7L",
        "outputId": "a430b577-89a1-4bcb-becc-0c36fd712c2b"
      },
      "outputs": [
        {
          "output_type": "stream",
          "name": "stdout",
          "text": [
            "5\n"
          ]
        }
      ],
      "source": [
        "a = 5\n",
        "print (a)\n"
      ]
    },
    {
      "cell_type": "code",
      "source": [
        "print(type(a))"
      ],
      "metadata": {
        "colab": {
          "base_uri": "https://localhost:8080/"
        },
        "id": "Qy3EpmkliSfY",
        "outputId": "4d49b6ca-99cc-4ed0-a927-d597dd8e10a2"
      },
      "execution_count": 2,
      "outputs": [
        {
          "output_type": "stream",
          "name": "stdout",
          "text": [
            "<class 'int'>\n"
          ]
        }
      ]
    },
    {
      "cell_type": "code",
      "source": [
        "dict = {\"name\": \"dhaval\",\n",
        "        \"surname\":\"solanki\",\n",
        "        \"enroll no\":\"12345\",\n",
        "        }\n",
        ""
      ],
      "metadata": {
        "id": "zZPs0zH5ik7g"
      },
      "execution_count": 3,
      "outputs": []
    },
    {
      "cell_type": "code",
      "source": [
        "set =(1,'dhaval',2,3.45)\n",
        "\n"
      ],
      "metadata": {
        "id": "kFDNaVVOjlRW"
      },
      "execution_count": 4,
      "outputs": []
    },
    {
      "cell_type": "code",
      "source": [
        "print(type(dict))"
      ],
      "metadata": {
        "colab": {
          "base_uri": "https://localhost:8080/"
        },
        "id": "aV_BuwSoj-Ts",
        "outputId": "13f718ac-3bf1-4f9f-85da-d0624a0400fb"
      },
      "execution_count": 6,
      "outputs": [
        {
          "output_type": "stream",
          "name": "stdout",
          "text": [
            "<class 'dict'>\n"
          ]
        }
      ]
    },
    {
      "cell_type": "code",
      "source": [
        "name = [\"apple\",\"banana\",\"dhaval\",\"keyur\",\"chirag\",\"table\"]\n",
        "\n",
        "# print(name[0:2])\n",
        "print(name[-2:])"
      ],
      "metadata": {
        "colab": {
          "base_uri": "https://localhost:8080/"
        },
        "id": "l4f7-kZikHUn",
        "outputId": "3ab9ffc8-6512-43bf-9538-9ebecec56688"
      },
      "execution_count": 30,
      "outputs": [
        {
          "output_type": "stream",
          "name": "stdout",
          "text": [
            "['chirag', 'table']\n"
          ]
        }
      ]
    },
    {
      "cell_type": "code",
      "source": [
        "name =\"Dhaval Solanki!\"\n",
        "print(name[0:6])"
      ],
      "metadata": {
        "colab": {
          "base_uri": "https://localhost:8080/"
        },
        "id": "ohfEEiHAla-W",
        "outputId": "3a4b161b-8f5f-45e1-8c49-731bfd112a64"
      },
      "execution_count": 40,
      "outputs": [
        {
          "output_type": "stream",
          "name": "stdout",
          "text": [
            "Dhaval\n"
          ]
        }
      ]
    },
    {
      "cell_type": "code",
      "source": [
        "print(name[-2:])"
      ],
      "metadata": {
        "colab": {
          "base_uri": "https://localhost:8080/"
        },
        "id": "ED7pQ35vqiTG",
        "outputId": "dbef3fe6-70ae-493c-8f34-ab4da6968aa0"
      },
      "execution_count": 41,
      "outputs": [
        {
          "output_type": "stream",
          "name": "stdout",
          "text": [
            "i!\n"
          ]
        }
      ]
    },
    {
      "cell_type": "code",
      "source": [
        "num=[0,1,2,3,4,5,6,7,8,9]\n",
        "print(num[0::2])"
      ],
      "metadata": {
        "colab": {
          "base_uri": "https://localhost:8080/"
        },
        "id": "yi6oU5bAsgXs",
        "outputId": "20f4c286-026f-4503-bb3f-37028684b628"
      },
      "execution_count": 48,
      "outputs": [
        {
          "output_type": "stream",
          "name": "stdout",
          "text": [
            "[0, 2, 4, 6, 8]\n"
          ]
        }
      ]
    },
    {
      "cell_type": "code",
      "source": [
        "num=[0,1,2,3,4,5,6,7,8,9]\n",
        "num2=[]\n",
        "for a in num:\n",
        "  num2.append(a+1)\n",
        "print(num2)"
      ],
      "metadata": {
        "colab": {
          "base_uri": "https://localhost:8080/"
        },
        "id": "xmhUWeQGtLhM",
        "outputId": "ce34512c-4ee3-4a93-c260-9d3c048331fa"
      },
      "execution_count": 68,
      "outputs": [
        {
          "output_type": "stream",
          "name": "stdout",
          "text": [
            "[1, 2, 3, 4, 5, 6, 7, 8, 9, 10]\n"
          ]
        }
      ]
    },
    {
      "cell_type": "code",
      "source": [
        "color_list=[\"Red\",\"Green\",\"White\" ,\"Black\"]\n",
        "print(\"first_color:\",color_list[0])\n",
        "print(\"last_color:\",color_list[3])"
      ],
      "metadata": {
        "colab": {
          "base_uri": "https://localhost:8080/"
        },
        "id": "jVKIXKGFuvg0",
        "outputId": "6830b178-d740-4d67-af3b-eb8ec5e3a6f5"
      },
      "execution_count": 3,
      "outputs": [
        {
          "output_type": "stream",
          "name": "stdout",
          "text": [
            "first_color: Red\n",
            "last_color: Black\n"
          ]
        }
      ]
    },
    {
      "cell_type": "code",
      "source": [
        "n = input(\"Enter an Interger Value:\")\n",
        "int_number1= int(n)\n",
        "int_number2= int(n+n)\n",
        "int_number3= int(n+n+n)\n",
        "print(int_number1+int_number2+int_number3)"
      ],
      "metadata": {
        "colab": {
          "base_uri": "https://localhost:8080/"
        },
        "id": "1oOAZMKO0-4g",
        "outputId": "a1da47d6-deed-464f-f351-c02336f6cb0e"
      },
      "execution_count": 5,
      "outputs": [
        {
          "output_type": "stream",
          "name": "stdout",
          "text": [
            "Enter an Interger Value:5\n",
            "615\n"
          ]
        }
      ]
    },
    {
      "cell_type": "code",
      "source": [
        "date1=(2014, 7, 2)"
      ],
      "metadata": {
        "id": "QpAZaWHh5w7p"
      },
      "execution_count": 7,
      "outputs": []
    },
    {
      "cell_type": "code",
      "source": [
        "from datetime import date\n",
        "d1 = date(2014, 7, 2)\n",
        "d2 = date(2014, 7, 11)"
      ],
      "metadata": {
        "id": "ptQeQKXm7Neu"
      },
      "execution_count": 11,
      "outputs": []
    },
    {
      "cell_type": "code",
      "source": [
        "diff = d2 - d1"
      ],
      "metadata": {
        "id": "fx7yzpfS8nlS"
      },
      "execution_count": 12,
      "outputs": []
    },
    {
      "cell_type": "code",
      "source": [
        "print(diff)"
      ],
      "metadata": {
        "colab": {
          "base_uri": "https://localhost:8080/"
        },
        "id": "zpZIFDo78184",
        "outputId": "91b87844-3f02-44de-c34c-38a1cabca6f3"
      },
      "execution_count": 13,
      "outputs": [
        {
          "output_type": "stream",
          "name": "stdout",
          "text": [
            "9 days, 0:00:00\n"
          ]
        }
      ]
    },
    {
      "cell_type": "code",
      "source": [
        "num1 = int(input(\"Enter a Number between 100 to 1000 or 2000:\"))\n",
        "\n",
        "if (num1<=100 == num1>=1000 or 2000):\n",
        "   print(\"yes, it's correct number.\", num1)\n",
        "else:\n",
        "   print(\"Invalid number\")"
      ],
      "metadata": {
        "colab": {
          "base_uri": "https://localhost:8080/"
        },
        "id": "kNxlB-Y586QG",
        "outputId": "06243091-1cc0-437a-9154-1f4a1cfa2f67"
      },
      "execution_count": 19,
      "outputs": [
        {
          "output_type": "stream",
          "name": "stdout",
          "text": [
            "Enter a Number between 100 to 1000 or 2000:456\n",
            "yes, it's correct number. 456\n"
          ]
        }
      ]
    },
    {
      "cell_type": "code",
      "source": [],
      "metadata": {
        "id": "8lvcodGIEOyg"
      },
      "execution_count": 16,
      "outputs": []
    }
  ]
}