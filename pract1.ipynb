{
 "cells": [
  {
   "cell_type": "code",
   "execution_count": 1,
   "id": "e10e4b34-46bb-4a0c-9967-4f7d55d7bf30",
   "metadata": {},
   "outputs": [
    {
     "name": "stdin",
     "output_type": "stream",
     "text": [
      "Enter the value of R to calculate area of circle:  2\n"
     ]
    },
    {
     "name": "stdout",
     "output_type": "stream",
     "text": [
      "r= 2\n",
      "Area =  12.56637061436\n"
     ]
    }
   ],
   "source": [
    "#1. Write a Python program that calculates the area of a circle based on the radius entered by the user.\n",
    "# Sample Output :\n",
    "# r = 1.1\n",
    "# Area = 3.8013271108436504\n",
    "# a=pi*(r*r)\n",
    "\n",
    "\n",
    "user=int(input(\"Enter the value of R to calculate area of circle: \"))\n",
    "a=3.14159265359*(user*user)\n",
    "print(\"r=\",user)\n",
    "print(\"Area = \",a)"
   ]
  },
  {
   "cell_type": "code",
   "execution_count": 2,
   "id": "37abf5bc-b127-4da3-bf38-80cd2554f433",
   "metadata": {},
   "outputs": [
    {
     "name": "stdout",
     "output_type": "stream",
     "text": [
      "Red\n",
      "Black\n"
     ]
    }
   ],
   "source": [
    "#2. Write a Python program to display the first and last colors from the following list.\n",
    "#color_list = [\"Red\",\"Green\",\"White\" ,\"Black\"]\n",
    "\n",
    "color_list = [\"Red\",\"Green\",\"White\" ,\"Black\"]\n",
    "print(color_list[0])\n",
    "print(color_list[-1])"
   ]
  },
  {
   "cell_type": "code",
   "execution_count": 3,
   "id": "87378bb0-d98e-4f20-91e9-924cd86952af",
   "metadata": {},
   "outputs": [
    {
     "name": "stdin",
     "output_type": "stream",
     "text": [
      "Enter a number:  4\n"
     ]
    },
    {
     "name": "stdout",
     "output_type": "stream",
     "text": [
      "492\n"
     ]
    }
   ],
   "source": [
    "# 3. Write a Python program that accepts an integer (n) and computes the value of n+nn+nnn.\n",
    "# Sample value of n is 5\n",
    "# Expected Result : 615\n",
    "\n",
    "user=int(input(\"Enter a number: \"))\n",
    "\n",
    "n=user\n",
    "nn=int(str(user)*2)\n",
    "nnn=int(str(user)*3)\n",
    "\n",
    "output=n+nn+nnn\n",
    "\n",
    "print(output)"
   ]
  },
  {
   "cell_type": "code",
   "execution_count": 4,
   "id": "bce99d7b-6156-4450-a25a-a36d80562c74",
   "metadata": {},
   "outputs": [
    {
     "name": "stdin",
     "output_type": "stream",
     "text": [
      "enter a starting year:  2024\n",
      "enter starting month:  7\n",
      "enter a starting date:  1\n",
      "enter a ending date:  13\n",
      "enter ending month:  7\n",
      "enter a ending year:  2024\n"
     ]
    },
    {
     "name": "stdout",
     "output_type": "stream",
     "text": [
      "[2024, 7, 1]\n",
      "[2024, 7, 13]\n",
      "days difference 12\n",
      "month difference 0\n",
      "year difference 0\n"
     ]
    }
   ],
   "source": [
    "# 4. Write a Python program to calculate the number of days between two dates.\n",
    "# Sample dates : (2014, 7, 2), (2014, 7, 11)\n",
    "# Expected output : 9 days\n",
    "\n",
    "startyear=int(input(\"enter a starting year: \"))\n",
    "startmonth=int(input(\"enter starting month: \"))\n",
    "startdate=int(input(\"enter a starting date: \"))\n",
    "enddate=int(input(\"enter a ending date: \"))\n",
    "endmonth=int(input(\"enter ending month: \"))\n",
    "endyear=int(input(\"enter a ending year: \"))\n",
    "startingdate=[startyear,startmonth,startdate]\n",
    "endingdate=[endyear,endmonth,enddate]\n",
    "print(startingdate)\n",
    "print(endingdate)\n",
    "days=enddate-startdate\n",
    "months=endmonth-startmonth\n",
    "year=endyear-startyear\n",
    "print(\"days difference\",days)\n",
    "print(\"month difference\",months)\n",
    "print(\"year difference\",year)"
   ]
  },
  {
   "cell_type": "code",
   "execution_count": null,
   "id": "fe127ce4-aaf4-4728-834e-cb0b23c8777e",
   "metadata": {},
   "outputs": [],
   "source": [
    "#5. Write a Python program to test whether a number is within 100 of 1000 or 2000\n",
    "\n",
    "\n",
    "user=int(input(\"Enter a number: \"))\n"
   ]
  }
 ],
 "metadata": {
  "kernelspec": {
   "display_name": "Python 3 (ipykernel)",
   "language": "python",
   "name": "python3"
  },
  "language_info": {
   "codemirror_mode": {
    "name": "ipython",
    "version": 3
   },
   "file_extension": ".py",
   "mimetype": "text/x-python",
   "name": "python",
   "nbconvert_exporter": "python",
   "pygments_lexer": "ipython3",
   "version": "3.11.5"
  }
 },
 "nbformat": 4,
 "nbformat_minor": 5
}
